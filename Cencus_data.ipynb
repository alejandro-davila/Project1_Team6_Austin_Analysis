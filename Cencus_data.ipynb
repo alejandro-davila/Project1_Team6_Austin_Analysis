{
 "cells": [
  {
   "cell_type": "code",
   "execution_count": 3,
   "id": "ebf56f7e-4311-448f-9016-a1e5a1f2d120",
   "metadata": {
    "tags": []
   },
   "outputs": [],
   "source": [
    "import requests\n",
    "import pandas as pd\n",
    "from census import Census"
   ]
  },
  {
   "cell_type": "code",
   "execution_count": 4,
   "id": "f61ebead-5105-42da-9b8e-9d6da507491c",
   "metadata": {
    "tags": []
   },
   "outputs": [
    {
     "name": "stdout",
     "output_type": "stream",
     "text": [
      "Number of rows in the DataFrame: 4\n"
     ]
    },
    {
     "data": {
      "text/html": [
       "<div>\n",
       "<style scoped>\n",
       "    .dataframe tbody tr th:only-of-type {\n",
       "        vertical-align: middle;\n",
       "    }\n",
       "\n",
       "    .dataframe tbody tr th {\n",
       "        vertical-align: top;\n",
       "    }\n",
       "\n",
       "    .dataframe thead th {\n",
       "        text-align: right;\n",
       "    }\n",
       "</style>\n",
       "<table border=\"1\" class=\"dataframe\">\n",
       "  <thead>\n",
       "    <tr style=\"text-align: right;\">\n",
       "      <th></th>\n",
       "      <th>Name</th>\n",
       "      <th>Higher Education</th>\n",
       "      <th>Population</th>\n",
       "      <th>Median Income</th>\n",
       "      <th>EMPLOYMENT STATUS</th>\n",
       "      <th>RACE</th>\n",
       "      <th>Texas</th>\n",
       "    </tr>\n",
       "  </thead>\n",
       "  <tbody>\n",
       "    <tr>\n",
       "      <th>0</th>\n",
       "      <td>Travis County, Texas</td>\n",
       "      <td>416545</td>\n",
       "      <td>1226698</td>\n",
       "      <td>38480</td>\n",
       "      <td>24416</td>\n",
       "      <td>7940</td>\n",
       "      <td>48</td>\n",
       "    </tr>\n",
       "    <tr>\n",
       "      <th>1</th>\n",
       "      <td>Hays County, Texas</td>\n",
       "      <td>None</td>\n",
       "      <td>214485</td>\n",
       "      <td>31877</td>\n",
       "      <td>5797</td>\n",
       "      <td>1137</td>\n",
       "      <td>48</td>\n",
       "    </tr>\n",
       "    <tr>\n",
       "      <th>2</th>\n",
       "      <td>Williamson County, Texas</td>\n",
       "      <td>147321</td>\n",
       "      <td>547545</td>\n",
       "      <td>37495</td>\n",
       "      <td>10561</td>\n",
       "      <td>1333</td>\n",
       "      <td>48</td>\n",
       "    </tr>\n",
       "    <tr>\n",
       "      <th>3</th>\n",
       "      <td>Bastrop County, Texas</td>\n",
       "      <td>None</td>\n",
       "      <td>84761</td>\n",
       "      <td>30819</td>\n",
       "      <td>1030</td>\n",
       "      <td>295</td>\n",
       "      <td>48</td>\n",
       "    </tr>\n",
       "  </tbody>\n",
       "</table>\n",
       "</div>"
      ],
      "text/plain": [
       "                       Name Higher Education Population Median Income  \\\n",
       "0      Travis County, Texas           416545    1226698         38480   \n",
       "1        Hays County, Texas             None     214485         31877   \n",
       "2  Williamson County, Texas           147321     547545         37495   \n",
       "3     Bastrop County, Texas             None      84761         30819   \n",
       "\n",
       "  EMPLOYMENT STATUS  RACE Texas  \n",
       "0             24416  7940    48  \n",
       "1              5797  1137    48  \n",
       "2             10561  1333    48  \n",
       "3              1030   295    48  "
      ]
     },
     "execution_count": 4,
     "metadata": {},
     "output_type": "execute_result"
    }
   ],
   "source": [
    "def json_to_dataframe(response):\n",
    "    return pd.DataFrame(response.json()[1:],columns=response.json()[0])\n",
    "url_str = \"https://api.census.gov/data/2017/acs/acs1?get=NAME,B16010_041E,B01003_001E,B06011_001E,B23025_005E,B02001_004E&for=county:453,053,491,021,209,055&in=state:48&key\"\n",
    "url_str1 = \"https://api.census.gov/data/2019/acs/acs1?get=NAME,B16010_041E,B01003_001E,B06011_001E,B23025_005E,B02001_004E&for=county:453,053,491,021,209,055&in=state:48&key\"\n",
    "url_str2 = \"https://api.census.gov/data/2021/acs/acs1?get=NAME,B16010_041E,B01003_001E,B06011_001E,B23025_005E,B02001_004E&for=county:453,053,491,021,209,055&in=state:48&key\"\n",
    "response=requests.request(\"GET\",url_str)\n",
    "response1=requests.request(\"GET\",url_str1)\n",
    "response2=requests.request(\"GET\",url_str2)\n",
    "\n",
    "response.text\n",
    "json_to_dataframe(response)\n",
    "census_pd = pd.DataFrame(json_to_dataframe(response))\n",
    "census_pd = census_pd.rename(\n",
    "    columns={\n",
    "      \"B16010_041E\": \"Higher Education\",\n",
    "      \"B01003_001E\": \"Population\",\n",
    "      \"B06011_001E\": \"Median Income\",\n",
    "      \"B23025_005E\": \"EMPLOYMENT STATUS\",\n",
    "      \"B02001_004E\": \"RACE\",\n",
    "      \"NAME\": \"Name\",\n",
    "      \"state\": \"Texas\",\n",
    "      \n",
    "    }\n",
    "   )\n",
    "census_pd = census_pd[\n",
    "  [\n",
    "        \"Name\",\n",
    "        \"Higher Education\",\n",
    "        \"Population\",\n",
    "        \"Median Income\",\n",
    "        \"EMPLOYMENT STATUS\",\n",
    "        \"RACE\",\n",
    "        \"Texas\",\n",
    "        \n",
    "        \n",
    "    ]\n",
    "]\n",
    "\n",
    "print(f\"Number of rows in the DataFrame: {len(census_pd)}\")\n",
    "census_pd.head()    \n",
    "    "
   ]
  },
  {
   "cell_type": "code",
   "execution_count": 5,
   "id": "7b270e0c-4c20-449c-9962-0c157ad60402",
   "metadata": {
    "tags": []
   },
   "outputs": [
    {
     "name": "stdout",
     "output_type": "stream",
     "text": [
      "Number of rows in the DataFrame: 4\n"
     ]
    }
   ],
   "source": [
    "response1.text\n",
    "json_to_dataframe(response1)\n",
    "census_pd = pd.DataFrame(json_to_dataframe(response1))\n",
    "census_pd = census_pd.rename(\n",
    "    columns={\n",
    "      \"B16010_041E\": \"Higher Education\",\n",
    "      \"B01003_001E\": \"Population\",\n",
    "      \"B06011_001E\": \"Median Income\",\n",
    "      \"B23025_005E\": \"EMPLOYMENT STATUS\",\n",
    "      \"B02001_004E\": \"RACE\",\n",
    "      \"NAME\": \"Name\",\n",
    "      \"state\": \"Texas\"\n",
    "    }\n",
    "   )\n",
    "census_pd = census_pd[\n",
    "  [\n",
    "        \"Name\",\n",
    "        \"Higher Education\",\n",
    "        \"Population\",\n",
    "        \"Median Income\",\n",
    "        \"EMPLOYMENT STATUS\",\n",
    "        \"RACE\",\n",
    "        \"Texas\",\n",
    "        \n",
    "    ]\n",
    "]\n",
    "\n",
    "print(f\"Number of rows in the DataFrame: {len(census_pd)}\")\n",
    "census_pd.head()    \n",
    "census_pd.to_csv(\"census_data.csv\", encoding=\"utf-8\", index=False)"
   ]
  },
  {
   "cell_type": "code",
   "execution_count": 6,
   "id": "10c370c8-886d-4871-aeb0-190fdad45625",
   "metadata": {
    "tags": []
   },
   "outputs": [
    {
     "name": "stdout",
     "output_type": "stream",
     "text": [
      "Number of rows in the DataFrame: 4\n"
     ]
    },
    {
     "data": {
      "text/html": [
       "<div>\n",
       "<style scoped>\n",
       "    .dataframe tbody tr th:only-of-type {\n",
       "        vertical-align: middle;\n",
       "    }\n",
       "\n",
       "    .dataframe tbody tr th {\n",
       "        vertical-align: top;\n",
       "    }\n",
       "\n",
       "    .dataframe thead th {\n",
       "        text-align: right;\n",
       "    }\n",
       "</style>\n",
       "<table border=\"1\" class=\"dataframe\">\n",
       "  <thead>\n",
       "    <tr style=\"text-align: right;\">\n",
       "      <th></th>\n",
       "      <th>Name</th>\n",
       "      <th>Higher Education</th>\n",
       "      <th>Population</th>\n",
       "      <th>Median Income</th>\n",
       "      <th>EMPLOYMENT STATUS</th>\n",
       "      <th>RACE</th>\n",
       "      <th>Texas</th>\n",
       "    </tr>\n",
       "  </thead>\n",
       "  <tbody>\n",
       "    <tr>\n",
       "      <th>0</th>\n",
       "      <td>Travis County, Texas</td>\n",
       "      <td>512336</td>\n",
       "      <td>1305154</td>\n",
       "      <td>46868</td>\n",
       "      <td>38913</td>\n",
       "      <td>15976</td>\n",
       "      <td>48</td>\n",
       "    </tr>\n",
       "    <tr>\n",
       "      <th>1</th>\n",
       "      <td>Williamson County, Texas</td>\n",
       "      <td>209215</td>\n",
       "      <td>643026</td>\n",
       "      <td>46379</td>\n",
       "      <td>17071</td>\n",
       "      <td>3828</td>\n",
       "      <td>48</td>\n",
       "    </tr>\n",
       "    <tr>\n",
       "      <th>2</th>\n",
       "      <td>Bastrop County, Texas</td>\n",
       "      <td>None</td>\n",
       "      <td>102058</td>\n",
       "      <td>37132</td>\n",
       "      <td>3045</td>\n",
       "      <td>1576</td>\n",
       "      <td>48</td>\n",
       "    </tr>\n",
       "    <tr>\n",
       "      <th>3</th>\n",
       "      <td>Hays County, Texas</td>\n",
       "      <td>None</td>\n",
       "      <td>255397</td>\n",
       "      <td>33453</td>\n",
       "      <td>5774</td>\n",
       "      <td>2074</td>\n",
       "      <td>48</td>\n",
       "    </tr>\n",
       "  </tbody>\n",
       "</table>\n",
       "</div>"
      ],
      "text/plain": [
       "                       Name Higher Education Population Median Income  \\\n",
       "0      Travis County, Texas           512336    1305154         46868   \n",
       "1  Williamson County, Texas           209215     643026         46379   \n",
       "2     Bastrop County, Texas             None     102058         37132   \n",
       "3        Hays County, Texas             None     255397         33453   \n",
       "\n",
       "  EMPLOYMENT STATUS   RACE Texas  \n",
       "0             38913  15976    48  \n",
       "1             17071   3828    48  \n",
       "2              3045   1576    48  \n",
       "3              5774   2074    48  "
      ]
     },
     "execution_count": 6,
     "metadata": {},
     "output_type": "execute_result"
    }
   ],
   "source": [
    "response2.text\n",
    "json_to_dataframe(response2)\n",
    "census_pd = pd.DataFrame(json_to_dataframe(response2))\n",
    "census_pd = census_pd.rename(\n",
    "    columns={\n",
    "      \"B16010_041E\": \"Higher Education\",\n",
    "      \"B01003_001E\": \"Population\",\n",
    "      \"B06011_001E\": \"Median Income\",\n",
    "      \"B23025_005E\": \"EMPLOYMENT STATUS\",\n",
    "      \"B02001_004E\": \"RACE\",\n",
    "      \"NAME\": \"Name\",\n",
    "      \"state\": \"Texas\"\n",
    "    }\n",
    "   )\n",
    "census_pd = census_pd[\n",
    "  [\n",
    "        \"Name\",\n",
    "        \"Higher Education\",\n",
    "        \"Population\",\n",
    "        \"Median Income\",\n",
    "        \"EMPLOYMENT STATUS\",\n",
    "        \"RACE\",\n",
    "        \"Texas\",\n",
    "        \n",
    "    ]\n",
    "]\n",
    "\n",
    "print(f\"Number of rows in the DataFrame: {len(census_pd)}\")\n",
    "census_pd.head()    "
   ]
  },
  {
   "cell_type": "code",
   "execution_count": null,
   "id": "273032bc-fca4-40dc-812d-f93661c944e3",
   "metadata": {
    "tags": []
   },
   "outputs": [],
   "source": []
  },
  {
   "cell_type": "code",
   "execution_count": 10,
   "id": "04ec298d-514e-4f70-b5fc-239dfbf83390",
   "metadata": {
    "tags": []
   },
   "outputs": [],
   "source": [
    "#census_pd.to_csv(\"census_data.csv\", encoding=\"utf-8\", index=False)"
   ]
  },
  {
   "cell_type": "code",
   "execution_count": null,
   "id": "3da105a9-41b2-4b3c-b294-98e0d997328e",
   "metadata": {},
   "outputs": [],
   "source": []
  }
 ],
 "metadata": {
  "kernelspec": {
   "display_name": "Python [conda env:dev] *",
   "language": "python",
   "name": "conda-env-dev-py"
  },
  "language_info": {
   "codemirror_mode": {
    "name": "ipython",
    "version": 3
   },
   "file_extension": ".py",
   "mimetype": "text/x-python",
   "name": "python",
   "nbconvert_exporter": "python",
   "pygments_lexer": "ipython3",
   "version": "3.10.12"
  }
 },
 "nbformat": 4,
 "nbformat_minor": 5
}
