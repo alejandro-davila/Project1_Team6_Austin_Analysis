{
 "cells": [
  {
   "cell_type": "code",
   "execution_count": 3,
   "id": "f5bea99c-b92e-4ced-8e36-103a1b7353a4",
   "metadata": {
    "tags": []
   },
   "outputs": [
    {
     "ename": "FileNotFoundError",
     "evalue": "[Errno 2] No such file or directory: 'Project1_Team6_Austin_Analysis/AD_Resources/AD_Crime_Reports_2022-2.csv'",
     "output_type": "error",
     "traceback": [
      "\u001b[0;31m---------------------------------------------------------------------------\u001b[0m",
      "\u001b[0;31mFileNotFoundError\u001b[0m                         Traceback (most recent call last)",
      "Cell \u001b[0;32mIn[3], line 11\u001b[0m\n\u001b[1;32m      7\u001b[0m \u001b[38;5;28;01mimport\u001b[39;00m \u001b[38;5;21;01mhvplot\u001b[39;00m\u001b[38;5;21;01m.\u001b[39;00m\u001b[38;5;21;01mpandas\u001b[39;00m\n\u001b[1;32m     10\u001b[0m crime_file22 \u001b[38;5;241m=\u001b[39m os\u001b[38;5;241m.\u001b[39mpath\u001b[38;5;241m.\u001b[39mjoin(\u001b[38;5;124m\"\u001b[39m\u001b[38;5;124mProject1_Team6_Austin_Analysis\u001b[39m\u001b[38;5;124m\"\u001b[39m,\u001b[38;5;124m\"\u001b[39m\u001b[38;5;124mAD_Resources\u001b[39m\u001b[38;5;124m\"\u001b[39m, \u001b[38;5;124m\"\u001b[39m\u001b[38;5;124mAD_Crime_Reports_2022-2.csv\u001b[39m\u001b[38;5;124m\"\u001b[39m)\n\u001b[0;32m---> 11\u001b[0m crime_df22 \u001b[38;5;241m=\u001b[39m \u001b[43mpd\u001b[49m\u001b[38;5;241;43m.\u001b[39;49m\u001b[43mread_csv\u001b[49m\u001b[43m(\u001b[49m\u001b[43mcrime_file22\u001b[49m\u001b[43m,\u001b[49m\u001b[43m \u001b[49m\u001b[43mlow_memory\u001b[49m\u001b[38;5;241;43m=\u001b[39;49m\u001b[38;5;28;43;01mFalse\u001b[39;49;00m\u001b[43m,\u001b[49m\u001b[43m \u001b[49m\u001b[43mencoding\u001b[49m\u001b[38;5;241;43m=\u001b[39;49m\u001b[38;5;124;43m\"\u001b[39;49m\u001b[38;5;124;43mLatin-1\u001b[39;49m\u001b[38;5;124;43m\"\u001b[39;49m\u001b[43m)\u001b[49m\n\u001b[1;32m     13\u001b[0m \u001b[38;5;66;03m# crime_file21 = os.path.join(\"AD_Resources\", \"AD_Crime_Reports_2021.csv\")\u001b[39;00m\n\u001b[1;32m     14\u001b[0m \u001b[38;5;66;03m# crime_df21 = pd.read_csv(crime_file21, low_memory=False, encoding=\"Latin-1\")\u001b[39;00m\n\u001b[1;32m     15\u001b[0m \n\u001b[0;32m   (...)\u001b[0m\n\u001b[1;32m     19\u001b[0m \n\u001b[1;32m     20\u001b[0m \u001b[38;5;66;03m# To view the headers, you can use the columns attribute of the DataFrame\u001b[39;00m\n\u001b[1;32m     21\u001b[0m headers22 \u001b[38;5;241m=\u001b[39m crime_df22\u001b[38;5;241m.\u001b[39mcolumns\n",
      "File \u001b[0;32m~/anaconda3/envs/dev/lib/python3.10/site-packages/pandas/util/_decorators.py:211\u001b[0m, in \u001b[0;36mdeprecate_kwarg.<locals>._deprecate_kwarg.<locals>.wrapper\u001b[0;34m(*args, **kwargs)\u001b[0m\n\u001b[1;32m    209\u001b[0m     \u001b[38;5;28;01melse\u001b[39;00m:\n\u001b[1;32m    210\u001b[0m         kwargs[new_arg_name] \u001b[38;5;241m=\u001b[39m new_arg_value\n\u001b[0;32m--> 211\u001b[0m \u001b[38;5;28;01mreturn\u001b[39;00m \u001b[43mfunc\u001b[49m\u001b[43m(\u001b[49m\u001b[38;5;241;43m*\u001b[39;49m\u001b[43margs\u001b[49m\u001b[43m,\u001b[49m\u001b[43m \u001b[49m\u001b[38;5;241;43m*\u001b[39;49m\u001b[38;5;241;43m*\u001b[39;49m\u001b[43mkwargs\u001b[49m\u001b[43m)\u001b[49m\n",
      "File \u001b[0;32m~/anaconda3/envs/dev/lib/python3.10/site-packages/pandas/util/_decorators.py:331\u001b[0m, in \u001b[0;36mdeprecate_nonkeyword_arguments.<locals>.decorate.<locals>.wrapper\u001b[0;34m(*args, **kwargs)\u001b[0m\n\u001b[1;32m    325\u001b[0m \u001b[38;5;28;01mif\u001b[39;00m \u001b[38;5;28mlen\u001b[39m(args) \u001b[38;5;241m>\u001b[39m num_allow_args:\n\u001b[1;32m    326\u001b[0m     warnings\u001b[38;5;241m.\u001b[39mwarn(\n\u001b[1;32m    327\u001b[0m         msg\u001b[38;5;241m.\u001b[39mformat(arguments\u001b[38;5;241m=\u001b[39m_format_argument_list(allow_args)),\n\u001b[1;32m    328\u001b[0m         \u001b[38;5;167;01mFutureWarning\u001b[39;00m,\n\u001b[1;32m    329\u001b[0m         stacklevel\u001b[38;5;241m=\u001b[39mfind_stack_level(),\n\u001b[1;32m    330\u001b[0m     )\n\u001b[0;32m--> 331\u001b[0m \u001b[38;5;28;01mreturn\u001b[39;00m \u001b[43mfunc\u001b[49m\u001b[43m(\u001b[49m\u001b[38;5;241;43m*\u001b[39;49m\u001b[43margs\u001b[49m\u001b[43m,\u001b[49m\u001b[43m \u001b[49m\u001b[38;5;241;43m*\u001b[39;49m\u001b[38;5;241;43m*\u001b[39;49m\u001b[43mkwargs\u001b[49m\u001b[43m)\u001b[49m\n",
      "File \u001b[0;32m~/anaconda3/envs/dev/lib/python3.10/site-packages/pandas/io/parsers/readers.py:950\u001b[0m, in \u001b[0;36mread_csv\u001b[0;34m(filepath_or_buffer, sep, delimiter, header, names, index_col, usecols, squeeze, prefix, mangle_dupe_cols, dtype, engine, converters, true_values, false_values, skipinitialspace, skiprows, skipfooter, nrows, na_values, keep_default_na, na_filter, verbose, skip_blank_lines, parse_dates, infer_datetime_format, keep_date_col, date_parser, dayfirst, cache_dates, iterator, chunksize, compression, thousands, decimal, lineterminator, quotechar, quoting, doublequote, escapechar, comment, encoding, encoding_errors, dialect, error_bad_lines, warn_bad_lines, on_bad_lines, delim_whitespace, low_memory, memory_map, float_precision, storage_options)\u001b[0m\n\u001b[1;32m    935\u001b[0m kwds_defaults \u001b[38;5;241m=\u001b[39m _refine_defaults_read(\n\u001b[1;32m    936\u001b[0m     dialect,\n\u001b[1;32m    937\u001b[0m     delimiter,\n\u001b[0;32m   (...)\u001b[0m\n\u001b[1;32m    946\u001b[0m     defaults\u001b[38;5;241m=\u001b[39m{\u001b[38;5;124m\"\u001b[39m\u001b[38;5;124mdelimiter\u001b[39m\u001b[38;5;124m\"\u001b[39m: \u001b[38;5;124m\"\u001b[39m\u001b[38;5;124m,\u001b[39m\u001b[38;5;124m\"\u001b[39m},\n\u001b[1;32m    947\u001b[0m )\n\u001b[1;32m    948\u001b[0m kwds\u001b[38;5;241m.\u001b[39mupdate(kwds_defaults)\n\u001b[0;32m--> 950\u001b[0m \u001b[38;5;28;01mreturn\u001b[39;00m \u001b[43m_read\u001b[49m\u001b[43m(\u001b[49m\u001b[43mfilepath_or_buffer\u001b[49m\u001b[43m,\u001b[49m\u001b[43m \u001b[49m\u001b[43mkwds\u001b[49m\u001b[43m)\u001b[49m\n",
      "File \u001b[0;32m~/anaconda3/envs/dev/lib/python3.10/site-packages/pandas/io/parsers/readers.py:605\u001b[0m, in \u001b[0;36m_read\u001b[0;34m(filepath_or_buffer, kwds)\u001b[0m\n\u001b[1;32m    602\u001b[0m _validate_names(kwds\u001b[38;5;241m.\u001b[39mget(\u001b[38;5;124m\"\u001b[39m\u001b[38;5;124mnames\u001b[39m\u001b[38;5;124m\"\u001b[39m, \u001b[38;5;28;01mNone\u001b[39;00m))\n\u001b[1;32m    604\u001b[0m \u001b[38;5;66;03m# Create the parser.\u001b[39;00m\n\u001b[0;32m--> 605\u001b[0m parser \u001b[38;5;241m=\u001b[39m \u001b[43mTextFileReader\u001b[49m\u001b[43m(\u001b[49m\u001b[43mfilepath_or_buffer\u001b[49m\u001b[43m,\u001b[49m\u001b[43m \u001b[49m\u001b[38;5;241;43m*\u001b[39;49m\u001b[38;5;241;43m*\u001b[39;49m\u001b[43mkwds\u001b[49m\u001b[43m)\u001b[49m\n\u001b[1;32m    607\u001b[0m \u001b[38;5;28;01mif\u001b[39;00m chunksize \u001b[38;5;129;01mor\u001b[39;00m iterator:\n\u001b[1;32m    608\u001b[0m     \u001b[38;5;28;01mreturn\u001b[39;00m parser\n",
      "File \u001b[0;32m~/anaconda3/envs/dev/lib/python3.10/site-packages/pandas/io/parsers/readers.py:1442\u001b[0m, in \u001b[0;36mTextFileReader.__init__\u001b[0;34m(self, f, engine, **kwds)\u001b[0m\n\u001b[1;32m   1439\u001b[0m     \u001b[38;5;28mself\u001b[39m\u001b[38;5;241m.\u001b[39moptions[\u001b[38;5;124m\"\u001b[39m\u001b[38;5;124mhas_index_names\u001b[39m\u001b[38;5;124m\"\u001b[39m] \u001b[38;5;241m=\u001b[39m kwds[\u001b[38;5;124m\"\u001b[39m\u001b[38;5;124mhas_index_names\u001b[39m\u001b[38;5;124m\"\u001b[39m]\n\u001b[1;32m   1441\u001b[0m \u001b[38;5;28mself\u001b[39m\u001b[38;5;241m.\u001b[39mhandles: IOHandles \u001b[38;5;241m|\u001b[39m \u001b[38;5;28;01mNone\u001b[39;00m \u001b[38;5;241m=\u001b[39m \u001b[38;5;28;01mNone\u001b[39;00m\n\u001b[0;32m-> 1442\u001b[0m \u001b[38;5;28mself\u001b[39m\u001b[38;5;241m.\u001b[39m_engine \u001b[38;5;241m=\u001b[39m \u001b[38;5;28;43mself\u001b[39;49m\u001b[38;5;241;43m.\u001b[39;49m\u001b[43m_make_engine\u001b[49m\u001b[43m(\u001b[49m\u001b[43mf\u001b[49m\u001b[43m,\u001b[49m\u001b[43m \u001b[49m\u001b[38;5;28;43mself\u001b[39;49m\u001b[38;5;241;43m.\u001b[39;49m\u001b[43mengine\u001b[49m\u001b[43m)\u001b[49m\n",
      "File \u001b[0;32m~/anaconda3/envs/dev/lib/python3.10/site-packages/pandas/io/parsers/readers.py:1735\u001b[0m, in \u001b[0;36mTextFileReader._make_engine\u001b[0;34m(self, f, engine)\u001b[0m\n\u001b[1;32m   1733\u001b[0m     \u001b[38;5;28;01mif\u001b[39;00m \u001b[38;5;124m\"\u001b[39m\u001b[38;5;124mb\u001b[39m\u001b[38;5;124m\"\u001b[39m \u001b[38;5;129;01mnot\u001b[39;00m \u001b[38;5;129;01min\u001b[39;00m mode:\n\u001b[1;32m   1734\u001b[0m         mode \u001b[38;5;241m+\u001b[39m\u001b[38;5;241m=\u001b[39m \u001b[38;5;124m\"\u001b[39m\u001b[38;5;124mb\u001b[39m\u001b[38;5;124m\"\u001b[39m\n\u001b[0;32m-> 1735\u001b[0m \u001b[38;5;28mself\u001b[39m\u001b[38;5;241m.\u001b[39mhandles \u001b[38;5;241m=\u001b[39m \u001b[43mget_handle\u001b[49m\u001b[43m(\u001b[49m\n\u001b[1;32m   1736\u001b[0m \u001b[43m    \u001b[49m\u001b[43mf\u001b[49m\u001b[43m,\u001b[49m\n\u001b[1;32m   1737\u001b[0m \u001b[43m    \u001b[49m\u001b[43mmode\u001b[49m\u001b[43m,\u001b[49m\n\u001b[1;32m   1738\u001b[0m \u001b[43m    \u001b[49m\u001b[43mencoding\u001b[49m\u001b[38;5;241;43m=\u001b[39;49m\u001b[38;5;28;43mself\u001b[39;49m\u001b[38;5;241;43m.\u001b[39;49m\u001b[43moptions\u001b[49m\u001b[38;5;241;43m.\u001b[39;49m\u001b[43mget\u001b[49m\u001b[43m(\u001b[49m\u001b[38;5;124;43m\"\u001b[39;49m\u001b[38;5;124;43mencoding\u001b[39;49m\u001b[38;5;124;43m\"\u001b[39;49m\u001b[43m,\u001b[49m\u001b[43m \u001b[49m\u001b[38;5;28;43;01mNone\u001b[39;49;00m\u001b[43m)\u001b[49m\u001b[43m,\u001b[49m\n\u001b[1;32m   1739\u001b[0m \u001b[43m    \u001b[49m\u001b[43mcompression\u001b[49m\u001b[38;5;241;43m=\u001b[39;49m\u001b[38;5;28;43mself\u001b[39;49m\u001b[38;5;241;43m.\u001b[39;49m\u001b[43moptions\u001b[49m\u001b[38;5;241;43m.\u001b[39;49m\u001b[43mget\u001b[49m\u001b[43m(\u001b[49m\u001b[38;5;124;43m\"\u001b[39;49m\u001b[38;5;124;43mcompression\u001b[39;49m\u001b[38;5;124;43m\"\u001b[39;49m\u001b[43m,\u001b[49m\u001b[43m \u001b[49m\u001b[38;5;28;43;01mNone\u001b[39;49;00m\u001b[43m)\u001b[49m\u001b[43m,\u001b[49m\n\u001b[1;32m   1740\u001b[0m \u001b[43m    \u001b[49m\u001b[43mmemory_map\u001b[49m\u001b[38;5;241;43m=\u001b[39;49m\u001b[38;5;28;43mself\u001b[39;49m\u001b[38;5;241;43m.\u001b[39;49m\u001b[43moptions\u001b[49m\u001b[38;5;241;43m.\u001b[39;49m\u001b[43mget\u001b[49m\u001b[43m(\u001b[49m\u001b[38;5;124;43m\"\u001b[39;49m\u001b[38;5;124;43mmemory_map\u001b[39;49m\u001b[38;5;124;43m\"\u001b[39;49m\u001b[43m,\u001b[49m\u001b[43m \u001b[49m\u001b[38;5;28;43;01mFalse\u001b[39;49;00m\u001b[43m)\u001b[49m\u001b[43m,\u001b[49m\n\u001b[1;32m   1741\u001b[0m \u001b[43m    \u001b[49m\u001b[43mis_text\u001b[49m\u001b[38;5;241;43m=\u001b[39;49m\u001b[43mis_text\u001b[49m\u001b[43m,\u001b[49m\n\u001b[1;32m   1742\u001b[0m \u001b[43m    \u001b[49m\u001b[43merrors\u001b[49m\u001b[38;5;241;43m=\u001b[39;49m\u001b[38;5;28;43mself\u001b[39;49m\u001b[38;5;241;43m.\u001b[39;49m\u001b[43moptions\u001b[49m\u001b[38;5;241;43m.\u001b[39;49m\u001b[43mget\u001b[49m\u001b[43m(\u001b[49m\u001b[38;5;124;43m\"\u001b[39;49m\u001b[38;5;124;43mencoding_errors\u001b[39;49m\u001b[38;5;124;43m\"\u001b[39;49m\u001b[43m,\u001b[49m\u001b[43m \u001b[49m\u001b[38;5;124;43m\"\u001b[39;49m\u001b[38;5;124;43mstrict\u001b[39;49m\u001b[38;5;124;43m\"\u001b[39;49m\u001b[43m)\u001b[49m\u001b[43m,\u001b[49m\n\u001b[1;32m   1743\u001b[0m \u001b[43m    \u001b[49m\u001b[43mstorage_options\u001b[49m\u001b[38;5;241;43m=\u001b[39;49m\u001b[38;5;28;43mself\u001b[39;49m\u001b[38;5;241;43m.\u001b[39;49m\u001b[43moptions\u001b[49m\u001b[38;5;241;43m.\u001b[39;49m\u001b[43mget\u001b[49m\u001b[43m(\u001b[49m\u001b[38;5;124;43m\"\u001b[39;49m\u001b[38;5;124;43mstorage_options\u001b[39;49m\u001b[38;5;124;43m\"\u001b[39;49m\u001b[43m,\u001b[49m\u001b[43m \u001b[49m\u001b[38;5;28;43;01mNone\u001b[39;49;00m\u001b[43m)\u001b[49m\u001b[43m,\u001b[49m\n\u001b[1;32m   1744\u001b[0m \u001b[43m\u001b[49m\u001b[43m)\u001b[49m\n\u001b[1;32m   1745\u001b[0m \u001b[38;5;28;01massert\u001b[39;00m \u001b[38;5;28mself\u001b[39m\u001b[38;5;241m.\u001b[39mhandles \u001b[38;5;129;01mis\u001b[39;00m \u001b[38;5;129;01mnot\u001b[39;00m \u001b[38;5;28;01mNone\u001b[39;00m\n\u001b[1;32m   1746\u001b[0m f \u001b[38;5;241m=\u001b[39m \u001b[38;5;28mself\u001b[39m\u001b[38;5;241m.\u001b[39mhandles\u001b[38;5;241m.\u001b[39mhandle\n",
      "File \u001b[0;32m~/anaconda3/envs/dev/lib/python3.10/site-packages/pandas/io/common.py:856\u001b[0m, in \u001b[0;36mget_handle\u001b[0;34m(path_or_buf, mode, encoding, compression, memory_map, is_text, errors, storage_options)\u001b[0m\n\u001b[1;32m    851\u001b[0m \u001b[38;5;28;01melif\u001b[39;00m \u001b[38;5;28misinstance\u001b[39m(handle, \u001b[38;5;28mstr\u001b[39m):\n\u001b[1;32m    852\u001b[0m     \u001b[38;5;66;03m# Check whether the filename is to be opened in binary mode.\u001b[39;00m\n\u001b[1;32m    853\u001b[0m     \u001b[38;5;66;03m# Binary mode does not support 'encoding' and 'newline'.\u001b[39;00m\n\u001b[1;32m    854\u001b[0m     \u001b[38;5;28;01mif\u001b[39;00m ioargs\u001b[38;5;241m.\u001b[39mencoding \u001b[38;5;129;01mand\u001b[39;00m \u001b[38;5;124m\"\u001b[39m\u001b[38;5;124mb\u001b[39m\u001b[38;5;124m\"\u001b[39m \u001b[38;5;129;01mnot\u001b[39;00m \u001b[38;5;129;01min\u001b[39;00m ioargs\u001b[38;5;241m.\u001b[39mmode:\n\u001b[1;32m    855\u001b[0m         \u001b[38;5;66;03m# Encoding\u001b[39;00m\n\u001b[0;32m--> 856\u001b[0m         handle \u001b[38;5;241m=\u001b[39m \u001b[38;5;28;43mopen\u001b[39;49m\u001b[43m(\u001b[49m\n\u001b[1;32m    857\u001b[0m \u001b[43m            \u001b[49m\u001b[43mhandle\u001b[49m\u001b[43m,\u001b[49m\n\u001b[1;32m    858\u001b[0m \u001b[43m            \u001b[49m\u001b[43mioargs\u001b[49m\u001b[38;5;241;43m.\u001b[39;49m\u001b[43mmode\u001b[49m\u001b[43m,\u001b[49m\n\u001b[1;32m    859\u001b[0m \u001b[43m            \u001b[49m\u001b[43mencoding\u001b[49m\u001b[38;5;241;43m=\u001b[39;49m\u001b[43mioargs\u001b[49m\u001b[38;5;241;43m.\u001b[39;49m\u001b[43mencoding\u001b[49m\u001b[43m,\u001b[49m\n\u001b[1;32m    860\u001b[0m \u001b[43m            \u001b[49m\u001b[43merrors\u001b[49m\u001b[38;5;241;43m=\u001b[39;49m\u001b[43merrors\u001b[49m\u001b[43m,\u001b[49m\n\u001b[1;32m    861\u001b[0m \u001b[43m            \u001b[49m\u001b[43mnewline\u001b[49m\u001b[38;5;241;43m=\u001b[39;49m\u001b[38;5;124;43m\"\u001b[39;49m\u001b[38;5;124;43m\"\u001b[39;49m\u001b[43m,\u001b[49m\n\u001b[1;32m    862\u001b[0m \u001b[43m        \u001b[49m\u001b[43m)\u001b[49m\n\u001b[1;32m    863\u001b[0m     \u001b[38;5;28;01melse\u001b[39;00m:\n\u001b[1;32m    864\u001b[0m         \u001b[38;5;66;03m# Binary mode\u001b[39;00m\n\u001b[1;32m    865\u001b[0m         handle \u001b[38;5;241m=\u001b[39m \u001b[38;5;28mopen\u001b[39m(handle, ioargs\u001b[38;5;241m.\u001b[39mmode)\n",
      "\u001b[0;31mFileNotFoundError\u001b[0m: [Errno 2] No such file or directory: 'Project1_Team6_Austin_Analysis/AD_Resources/AD_Crime_Reports_2022-2.csv'"
     ]
    }
   ],
   "source": [
    "import requests\n",
    "from bs4 import BeautifulSoup\n",
    "import pandas as pd\n",
    "import os\n",
    "import matplotlib.pyplot as plt\n",
    "import seaborn as sns\n",
    "import hvplot.pandas\n",
    "\n",
    "\n",
    "crime_file22 = os.path.join(\"Project1_Team6_Austin_Analysis\",\"AD_Resources\", \"AD_Crime_Reports_2022-2.csv\")\n",
    "crime_df22 = pd.read_csv(crime_file22, low_memory=False, encoding=\"Latin-1\")\n",
    "\n",
    "# crime_file21 = os.path.join(\"AD_Resources\", \"AD_Crime_Reports_2021.csv\")\n",
    "# crime_df21 = pd.read_csv(crime_file21, low_memory=False, encoding=\"Latin-1\")\n",
    "\n",
    "# crime_file19 = os.path.join(\"AD_Resources\", \"AD_Crime_Reports_2019.csv\")\n",
    "# crime_df19 = pd.read_csv(crime_file19, low_memory=False, encoding=\"Latin-1\")\n",
    "\n",
    "\n",
    "# To view the headers, you can use the columns attribute of the DataFrame\n",
    "headers22 = crime_df22.columns\n",
    "# headers21 = crime_df21.columns\n",
    "# headers19 = crime_df19.columns\n",
    "\n",
    "\n",
    "print(headers22)\n",
    "# print(headers21)\n",
    "# print(headers19)\n",
    "\n"
   ]
  },
  {
   "cell_type": "code",
   "execution_count": null,
   "id": "470ff2a8-ec06-421e-88e5-1b07eced7634",
   "metadata": {
    "tags": []
   },
   "outputs": [],
   "source": [
    "# unique_zipcodes20 = pd.DataFrame({'Zip Codes':crime_df20['Zip Code'].unique()})\n",
    "# unique_zipcodes21 = pd.DataFrame({'Zip Codes':crime_df21['Zip Code'].unique()})\n",
    "# unique_zipcodes22 = pd.DataFrame({'Zip Codes':crime_df22['Zip Code'].unique()})\n",
    "\n",
    "# unique_zipcodes20.dropna(inplace=True)\n",
    "# unique_zipcodes21.dropna(inplace=True)\n",
    "# unique_zipcodes22.dropna(inplace=True)\n",
    "\n",
    "# unique_zipcodes20['Zip Codes'] = unique_zipcodes20['Zip Codes'].astype(int)\n",
    "# unique_zipcodes21['Zip Codes'] = unique_zipcodes21['Zip Codes'].astype(int)\n",
    "# unique_zipcodes22['Zip Codes'] = unique_zipcodes22['Zip Codes'].astype(int)\n",
    "\n",
    "\n",
    "# print(unique_zipcodes20)\n",
    "# print(unique_zipcodes21)\n",
    "# print(unique_zipcodes22)\n"
   ]
  },
  {
   "cell_type": "code",
   "execution_count": null,
   "id": "2ea3a7dd-b7fc-414d-9205-d309294aefde",
   "metadata": {
    "tags": []
   },
   "outputs": [],
   "source": [
    "# Convert the \"Date\" column to datetime data type\n",
    "crime_df19['Occurred Date Time'] = pd.to_datetime(crime_df19['Occurred Date Time'])\n",
    "crime_df21['Occurred Date Time'] = pd.to_datetime(crime_df21['Occurred Date Time'])\n",
    "crime_df22['Occurred Date Time'] = pd.to_datetime(crime_df22['Occurred Date Time'])\n",
    "\n",
    "\n",
    "# Filter the data to only include records from the year 2020-2022\n",
    "crime_df19 = crime_df19[crime_df19['Occurred Date Time'].dt.year == 2019]\n",
    "crime_df21 = crime_df21[crime_df21['Occurred Date Time'].dt.year == 2021]\n",
    "crime_df22 = crime_df22[crime_df22['Occurred Date Time'].dt.year == 2022]\n",
    "\n",
    "\n",
    "# Extract the month from the \"Occurred Date\" column and create a new column 'Month'\n",
    "crime_df19['Month'] = crime_df19['Occurred Date Time'].dt.month\n",
    "crime_df19['Year'] = crime_df19['Occurred Date Time'].dt.year\n",
    "\n",
    "crime_df21['Month'] = crime_df21['Occurred Date Time'].dt.month\n",
    "crime_df21['Year'] = crime_df21['Occurred Date Time'].dt.year\n",
    "\n",
    "crime_df22['Month'] = crime_df22['Occurred Date Time'].dt.month\n",
    "crime_df22['Year'] = crime_df22['Occurred Date Time'].dt.year\n",
    "\n",
    "\n",
    "# Group the data by \"Zip Code\" and calculate the average number of crimes per month in 2020-2022\n",
    "crimes_by_zip_month_19 = crime_df19.groupby(['Year', 'Month']).size().reset_index(name='No. of Crimes')\n",
    "crimes_by_zip_month_21 = crime_df21.groupby(['Year', 'Month']).size().reset_index(name='No. of Crimes')\n",
    "crimes_by_zip_month_22 = crime_df22.groupby(['Year', 'Month']).size().reset_index(name='No. of Crimes')\n",
    "\n",
    "crimes_by_zip_month_19.dropna(inplace=True)\n",
    "crimes_by_zip_month_21.dropna(inplace=True)\n",
    "crimes_by_zip_month_22.dropna(inplace=True)\n",
    "\n",
    "#crimes_by_zip_month_20['Zip Code'] = crimes_by_zip_month_20['Zip Code'].astype(int)\n",
    "crimes_by_zip_month_19['No. of Crimes'] = crimes_by_zip_month_19['No. of Crimes'].astype(int)\n",
    "\n",
    "#crimes_by_zip_month_21['Zip Code'] = crimes_by_zip_month_21['Zip Code'].astype(int)\n",
    "crimes_by_zip_month_21['No. of Crimes'] = crimes_by_zip_month_21['No. of Crimes'].astype(int)\n",
    "\n",
    "#crimes_by_zip_month_22['Zip Code'] = crimes_by_zip_month_22['Zip Code'].astype(int)\n",
    "crimes_by_zip_month_22['No. of Crimes'] = crimes_by_zip_month_22['No. of Crimes'].astype(int)\n",
    "\n",
    "crime_df19"
   ]
  },
  {
   "cell_type": "code",
   "execution_count": null,
   "id": "65e907a5-1cb9-4905-a66b-bc3322a68e40",
   "metadata": {
    "tags": []
   },
   "outputs": [],
   "source": [
    "combined_data = pd.concat([crimes_by_zip_month_19, crimes_by_zip_month_21, crimes_by_zip_month_22])\n"
   ]
  },
  {
   "cell_type": "code",
   "execution_count": null,
   "id": "ff0b445b-0580-460a-8e83-0882f7f71a87",
   "metadata": {
    "tags": []
   },
   "outputs": [],
   "source": [
    "pivot_table = combined_data.pivot_table(index=['Month'], columns='Year', values='No. of Crimes',fill_value=0.5)\n",
    "\n",
    "month_names = {1: 'January', 2: 'February', 3: 'March', 4: 'April',\n",
    "               5: 'May', 6: 'June', 7: 'July', 8: 'August',\n",
    "               9: 'September', 10: 'October', 11: 'November', 12: 'December'}\n",
    "\n",
    "pivot_table.index = pivot_table.index.map(month_names)\n",
    "\n",
    "# Plot the bar graph using pandas.plot with grouped bars for each year and different colors\n",
    "ax = pivot_table.plot(kind='bar', figsize=(12, 6), color=['green', 'blue', 'red'],alpha=.75)\n",
    "\n",
    "plt.xlabel('Month')\n",
    "plt.ylabel('Number of Crimes')\n",
    "plt.title('Average Number of Crimes per Month from 2019, 2021, 2022')\n",
    "plt.xticks(rotation=45)\n",
    "plt.legend(title='Year', labels=['2019', '2021', '2022'])\n",
    "\n",
    "# Set x and y-axis labels\n",
    "ax.set_xlabel('Month')\n",
    "ax.set_ylabel('Number of Crimes')\n",
    "plt.grid(color=\"lightgray\",linestyle=\"-\",linewidth=.5)\n",
    "\n",
    "plt.show()"
   ]
  },
  {
   "cell_type": "code",
   "execution_count": null,
   "id": "a20d94e8-288b-4bdc-b3bc-50eb7bf27c47",
   "metadata": {
    "tags": []
   },
   "outputs": [],
   "source": [
    "crime_codes = {601: 'BURGLARY OF VEHICLE/NON RESIDENCE', 3400: 'FAMILY DISTURBANCE', 600: 'THEFT', 1400: 'CRIMINAL MISCHIEF',\n",
    "               900: 'ASSAULT W/INJURY-FAM/DATE VIOL', 700: 'AUTO THEFT', 2703: 'HARASSMENT', 902: 'ASSAULT BY CONTACT FAM/DATING/SEXUAL',\n",
    "               607: 'THEFT BY SHOPLIFTING', 3401: 'DISTURBANCE - OTHER',4022:'AGG ASSAULT FAM/DATE VIOLENCE',502:'BURGLARY NON RESIDENCE',\n",
    "               620:'THEFT CATALYTIC CONVERTER',2716:'CRIMINAL TRESPASS'}\n",
    "\n",
    "# Replace numeric offense codes with offense descriptions\n",
    "crime_df19['Highest Offense Description'] = crime_df19['Highest Offense Code'].replace(crime_codes)\n",
    "crime_df21['Highest Offense Description'] = crime_df21['Highest Offense Code'].replace(crime_codes)\n",
    "crime_df22['Highest Offense Description'] = crime_df22['Highest Offense Code'].replace(crime_codes)\n",
    "\n",
    "\n",
    "# Get the top 10 \"Highest Offense Description\"\n",
    "top10_19 = crime_df19['Highest Offense Description'].value_counts().head(5).reset_index()\n",
    "top10_21 = crime_df21['Highest Offense Description'].value_counts().head(5).reset_index()\n",
    "top10_22 = crime_df22['Highest Offense Description'].value_counts().head(5).reset_index()\n",
    "\n",
    "# Rename the columns for each year's top 10 DataFrame\n",
    "top10_19.columns = ['Highest Offense Description', 'Count']\n",
    "top10_21.columns = ['Highest Offense Description', 'Count']\n",
    "top10_22.columns = ['Highest Offense Description', 'Count']\n",
    "\n",
    "# Add \"Year\" column to each year's top 10 DataFrame\n",
    "top10_19['Year'] = 2019\n",
    "top10_21['Year'] = 2021\n",
    "top10_22['Year'] = 2022\n",
    "\n",
    "# Concatenate the DataFrames to include \"Year\" information\n",
    "combined_top10 = pd.concat([top10_19, top10_21, top10_22])\n",
    "\n",
    "print(combined_top10)\n",
    "\n",
    "\n",
    "\n"
   ]
  },
  {
   "cell_type": "code",
   "execution_count": null,
   "id": "f6573647-adac-425a-a2e5-9e8d2380d9ff",
   "metadata": {
    "tags": []
   },
   "outputs": [],
   "source": [
    "\n",
    "pivot_table = combined_top10.pivot_table(index=['Highest Offense Description'], columns='Year', values='Count',fill_value=0.5)\n",
    "\n",
    "\n",
    "# Plot the bar graph using pandas.plot with grouped bars for each year and different colors\n",
    "ax = pivot_table.plot(kind='bar', figsize=(12, 6), color=['green', 'blue', 'red'],alpha=.75)\n",
    "\n",
    "\n",
    "\n",
    "plt.xlabel('Highest Offense Description')\n",
    "plt.ylabel('Count')\n",
    "plt.title('Top 10 Highest Offense Descriptions from 2020 to 2022')\n",
    "plt.xticks(rotation=45, ha='right')\n",
    "plt.legend(title='Year', labels=['2020', '2021', '2022'])\n",
    "\n",
    "# Set x and y-axis labels\n",
    "ax.set_xlabel('Highest Offense Description')\n",
    "ax.set_ylabel('Count')\n",
    "plt.grid(color=\"lightgray\",linestyle=\"-\",linewidth=.5)\n",
    "\n",
    "plt.tight_layout()\n",
    "plt.show()\n"
   ]
  },
  {
   "cell_type": "code",
   "execution_count": null,
   "id": "b568ae7b-5ebd-4240-b565-93ada8589d9b",
   "metadata": {
    "tags": []
   },
   "outputs": [],
   "source": [
    "top_10_offenses = combined_top10['Highest Offense Description'].tolist()\n",
    "\n",
    "# Filter the original DataFrame for each year using the top 10 offense descriptions\n",
    "top_10_crimes_19 = crime_df19[crime_df19['Highest Offense Description'].isin(top_10_offenses)][['Highest Offense Description','Year','Zip Code','Address','Latitude', 'Longitude']]\n",
    "top_10_crimes_21 = crime_df21[crime_df21['Highest Offense Description'].isin(top_10_offenses)][['Highest Offense Description','Year','Zip Code','Address', 'Latitude', 'Longitude']]\n",
    "top_10_crimes_22 = crime_df22[crime_df22['Highest Offense Description'].isin(top_10_offenses)][['Highest Offense Description', 'Year','Zip Code','Address','Latitude', 'Longitude']]\n",
    "\n",
    "top_10_crimes_19.dropna(inplace=True)\n",
    "top_10_crimes_19['Zip Code'] = top_10_crimes_19['Zip Code'].astype(int)\n",
    "\n",
    "top_10_crimes_21.dropna(inplace=True)\n",
    "top_10_crimes_21['Zip Code'] = top_10_crimes_21['Zip Code'].astype(int)\n",
    "\n",
    "top_10_crimes_22.dropna(inplace=True)\n",
    "top_10_crimes_22['Zip Code'] = top_10_crimes_22['Zip Code'].astype(int)\n",
    "\n",
    "# Concatenate the DataFrames for all years\n",
    "all_top_10_crimes = pd.concat([top_10_crimes_19, top_10_crimes_21, top_10_crimes_22])\n",
    "\n",
    "\n",
    "top_10_crimes_19"
   ]
  },
  {
   "cell_type": "code",
   "execution_count": null,
   "id": "38b03f34-f70e-48ff-90b0-bc5b0fd15599",
   "metadata": {
    "tags": []
   },
   "outputs": [],
   "source": [
    "offense_counts19 = top_10_crimes_19['Highest Offense Description'].value_counts()\n",
    "\n",
    "# Divide the counts by 100\n",
    "off_count100_20 = offense_counts19 / 100\n",
    "\n",
    "# Create a DataFrame from the 'off_count100_20' Series\n",
    "offense_counts_df = pd.DataFrame({'Highest Offense Description': off_count100_20.index,\n",
    "                                  'Normalized Count': off_count100_20.values})\n",
    "\n",
    "\n",
    "\n",
    "offense_counts_df\n"
   ]
  },
  {
   "cell_type": "code",
   "execution_count": null,
   "id": "4e4a8d79-c657-4f8a-a28e-47cb2e3b0e60",
   "metadata": {
    "tags": []
   },
   "outputs": [],
   "source": [
    "import hvplot.pandas\n",
    "import holoviews as hv\n",
    "\n",
    "map2019 = top_10_crimes_19.hvplot.points(\"Longitude\",\n",
    "                                         \"Latitude\",\n",
    "                                         geo=True,\n",
    "                                        color=\"Highest Offense Description\",\n",
    "                                        alpha=1,\n",
    "                                        #size='Normalized Count',\n",
    "                                        tiles=\"OSM\",\n",
    "                                    hover_cols=[\"Address\"],\n",
    "                                    frame_width=700,\n",
    "                                    frame_height=700)\n",
    "\n",
    "map2019\n"
   ]
  },
  {
   "cell_type": "code",
   "execution_count": null,
   "id": "6a83286a-3330-4106-854d-e9cbce04e676",
   "metadata": {
    "tags": []
   },
   "outputs": [],
   "source": [
    "import hvplot.pandas\n",
    "import holoviews as hv\n",
    "\n",
    "map2021 = top_10_crimes_21.hvplot.points(\"Longitude\",\n",
    "                                         \"Latitude\",\n",
    "                                         geo=True,\n",
    "                                        color=\"Highest Offense Description\",\n",
    "                                        alpha=1,\n",
    "                                        #size='Normalized Count',\n",
    "                                        tiles=\"OSM\",\n",
    "                                    hover_cols=[\"Address\"],\n",
    "                                    frame_width=700,\n",
    "                                    frame_height=700)\n",
    "\n",
    "map2021"
   ]
  },
  {
   "cell_type": "code",
   "execution_count": null,
   "id": "b61948a1-d488-4da8-bdae-249eee05534e",
   "metadata": {
    "tags": []
   },
   "outputs": [],
   "source": [
    "import hvplot.pandas\n",
    "import holoviews as hv\n",
    "\n",
    "map2022 = top_10_crimes_22.hvplot.points(\"Longitude\",\n",
    "                                         \"Latitude\",\n",
    "                                         geo=True,\n",
    "                                        color=\"Highest Offense Description\",\n",
    "                                        alpha=1,\n",
    "                                        #size='Normalized Count',\n",
    "                                        tiles=\"OSM\",\n",
    "                                    hover_cols=[\"Address\"],\n",
    "                                    frame_width=700,\n",
    "                                    frame_height=700)\n",
    "\n",
    "map2022"
   ]
  },
  {
   "cell_type": "code",
   "execution_count": null,
   "id": "3e86ab00-e445-46cf-ae43-d45e7685c48e",
   "metadata": {},
   "outputs": [],
   "source": []
  },
  {
   "cell_type": "code",
   "execution_count": null,
   "id": "be3ffe86-cbbe-4d39-9fc0-3d99a87367c3",
   "metadata": {},
   "outputs": [],
   "source": [
    "import plotly.figure_factory as ff\n",
    "\n",
    "import pandas as pd\n",
    "\n",
    "NE_states = ['Connecticut', 'Maine', 'Massachusetts', 'New Hampshire', 'Rhode Island', 'Vermont']\n",
    "df_sample = pd.read_csv('https://raw.githubusercontent.com/plotly/datasets/master/minoritymajority.csv')\n",
    "df_sample_r = df_sample[df_sample['STNAME'].isin(NE_states)]\n",
    "\n",
    "values = df_sample_r['TOT_POP'].tolist()\n",
    "fips = df_sample_r['FIPS'].tolist()\n",
    "\n",
    "colorscale = [\n",
    "    'rgb(68.0, 1.0, 84.0)',\n",
    "    'rgb(66.0, 64.0, 134.0)',\n",
    "    'rgb(38.0, 130.0, 142.0)',\n",
    "    'rgb(63.0, 188.0, 115.0)',\n",
    "    'rgb(216.0, 226.0, 25.0)'\n",
    "]\n",
    "\n",
    "fig = ff.create_choropleth(\n",
    "    fips=fips, values=values,\n",
    "    scope=NE_states, county_outline={'color': 'rgb(255,255,255)', 'width': 0.5},\n",
    "    legend_title='Population per county'\n",
    "\n",
    ")\n",
    "fig.update_layout(\n",
    "    legend_x = 0,\n",
    "    annotations = {'x': -0.12, 'xanchor': 'left'}\n",
    ")\n",
    "\n",
    "fig.layout.template = None\n",
    "fig.show()"
   ]
  },
  {
   "cell_type": "code",
   "execution_count": null,
   "id": "4a07e205-210e-432e-983f-d9a7ee7e5485",
   "metadata": {},
   "outputs": [],
   "source": []
  },
  {
   "cell_type": "code",
   "execution_count": null,
   "id": "073053a1-840d-40d9-a193-1cbb8079a8a5",
   "metadata": {},
   "outputs": [],
   "source": []
  },
  {
   "cell_type": "code",
   "execution_count": null,
   "id": "e0c4d31d-d19b-42d7-9956-460e5c8a9a01",
   "metadata": {},
   "outputs": [],
   "source": []
  },
  {
   "cell_type": "code",
   "execution_count": null,
   "id": "29c3e574-1211-43f7-bc87-5e527f48360e",
   "metadata": {},
   "outputs": [],
   "source": []
  },
  {
   "cell_type": "code",
   "execution_count": null,
   "id": "33f276cf-79ad-4225-8f6b-6fa67bd78d1c",
   "metadata": {},
   "outputs": [],
   "source": []
  },
  {
   "cell_type": "code",
   "execution_count": null,
   "id": "be977511-2e03-4988-9e7d-8dbfe6f79efb",
   "metadata": {},
   "outputs": [],
   "source": []
  },
  {
   "cell_type": "code",
   "execution_count": null,
   "id": "5616e313-1066-4657-a9fd-5aac6f7fe389",
   "metadata": {},
   "outputs": [],
   "source": []
  },
  {
   "cell_type": "code",
   "execution_count": null,
   "id": "f67ad703-51d0-4028-9591-884b5ae1dbf4",
   "metadata": {
    "tags": []
   },
   "outputs": [],
   "source": [
    "# # Convert the \"Date\" column to datetime data type\n",
    "# crime_df['Occurred Date Time'] = pd.to_datetime(crime_df['Occurred Date Time'])\n",
    "\n",
    "\n",
    "# # Filter the data to only include records from the year 2020-2022\n",
    "#     # crime_df_2022 = crime_df[crime_df['Occurred Date Time'].dt.year == 2022]\n",
    "#     # crime_df_2021 = crime_df[crime_df['Occurred Date Time'].dt.year == 2021]\n",
    "#     # crime_df_2020 = crime_df[crime_df['Occurred Date Time'].dt.year == 2020]\n",
    "# crime_df_2020_2021_2022 = crime_df[crime_df['Occurred Date Time'].dt.year.isin([2020, 2021, 2022])]\n",
    "\n",
    "\n",
    "# # Extract the month from the \"Occurred Date\" column and create a new column 'Month'\n",
    "#     # crime_df_2022['Month'] = crime_df_2022['Occurred Date Time'].dt.month\n",
    "#     # crime_df_2022['Year'] = crime_df_2022['Occurred Date Time'].dt.year\n",
    "# crime_df_2020_2021_2022['Month'] = crime_df_2020_2021_2022['Occurred Date Time'].dt.month\n",
    "# crime_df_2020_2021_2022['Year'] = crime_df_2020_2021_2022['Occurred Date Time'].dt.year\n",
    "\n",
    "\n",
    "\n",
    "# # Filter the data to include only January, February, and March (months 1, 2, and 3)\n",
    "#     # crime_df_months20 = crime_df_2020[crime_df_2020['Occurred Date Time'].dt.month.isin(range(1, 13))]\n",
    "#     # crime_df_months21 = crime_df_2021[crime_df_2021['Occurred Date Time'].dt.month.isin(range(1, 13))]\n",
    "#     # crime_df_months22 = crime_df_2022[crime_df_2022['Occurred Date Time'].dt.month.isin(range(1, 13))]\n",
    "\n",
    "\n",
    "    \n",
    "# # Group the data by \"Zip Code\" and calculate the average number of crimes per month in 2022\n",
    "#     # average_crimes_2020 = crime_df_months20.groupby(['Zip Code', crime_df_months20['Occurred Date Time'].dt.month]).size().reset_index(name='Average Crimes')\n",
    "#     # average_crimes_2021 = crime_df_months21.groupby(['Zip Code', crime_df_months21['Occurred Date Time'].dt.month]).size().reset_index(name='Average Crimes')\n",
    "#     # average_crimes_2022 = crime_df_months22.groupby(['Zip Code', crime_df_months22['Occurred Date Time'].dt.month]).size().reset_index(name='Average Crimes')\n",
    "# average_crimes_by_zip_month_year = crime_df_2020_2021_2022.groupby(['Zip Code', 'Month', 'Year']).size().reset_index(name='Average Crimes')\n",
    "\n",
    "\n",
    "\n",
    "#     # average_crimes_2020 = average_crimes_2020[average_crimes_2020['Average Crimes'] > 100]\n",
    "#     # average_crimes_2021 = average_crimes_2020[average_crimes_2020['Average Crimes'] > 100]\n",
    "#     # average_crimes_2022 = average_crimes_2020[average_crimes_2020['Average Crimes'] > 100]\n",
    "# average_crimes_over_100 = average_crimes_by_zip_month_year[average_crimes_by_zip_month_year['Average Crimes'] > 100]\n",
    "\n",
    "# average_crimes_over_100.dropna(inplace=True)\n",
    "\n",
    "# average_crimes_over_100['Zip Code'] = average_crimes_over_100['Zip Code'].astype(int)\n",
    "# average_crimes_over_100['Zip Code'] = average_crimes_over_100['Average Crimes'].astype(int)\n",
    "\n",
    "# average_crimes_over_100\n"
   ]
  },
  {
   "cell_type": "code",
   "execution_count": null,
   "id": "2c7498b6-b8ff-4281-b59a-b02e4e1b7481",
   "metadata": {},
   "outputs": [],
   "source": []
  },
  {
   "cell_type": "code",
   "execution_count": null,
   "id": "a8a5105d-aadc-4e0b-a41c-fd07c72b05e4",
   "metadata": {},
   "outputs": [],
   "source": []
  },
  {
   "cell_type": "code",
   "execution_count": null,
   "id": "f83dbad0-bf3c-4f1c-b831-e44d5d58d5e7",
   "metadata": {},
   "outputs": [],
   "source": []
  }
 ],
 "metadata": {
  "kernelspec": {
   "display_name": "Python 3 (ipykernel)",
   "language": "python",
   "name": "python3"
  },
  "language_info": {
   "codemirror_mode": {
    "name": "ipython",
    "version": 3
   },
   "file_extension": ".py",
   "mimetype": "text/x-python",
   "name": "python",
   "nbconvert_exporter": "python",
   "pygments_lexer": "ipython3",
   "version": "3.10.11"
  }
 },
 "nbformat": 4,
 "nbformat_minor": 5
}
