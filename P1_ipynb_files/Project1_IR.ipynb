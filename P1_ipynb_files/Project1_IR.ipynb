{
 "cells": [
  {
   "cell_type": "code",
   "execution_count": 14,
   "id": "1f5ae2da-ef3f-4474-a5a7-f50c83156ad1",
   "metadata": {
    "tags": []
   },
   "outputs": [
    {
     "name": "stdout",
     "output_type": "stream",
     "text": [
      "                       NAME B16010_041E B01003_001E B06011_001E B23025_005E  \\\n",
      "0        Hays County, Texas        None      230191       31769        4129   \n",
      "1  Williamson County, Texas      164536      590551       40406       16024   \n",
      "2      Travis County, Texas      467371     1273954       41868       25374   \n",
      "3     Bastrop County, Texas        None       88723       24706        1925   \n",
      "\n",
      "  B02001_002E B02001_003E B02001_004E B02001_005E B02001_006E B02001_007E  \\\n",
      "0      204010        9776        1422        3279         106        6320   \n",
      "1      469151       40399        2577       44897         319        8886   \n",
      "2      920247      104062        9660       87316         504      100839   \n",
      "3       57372        5334         857         219           0       21487   \n",
      "\n",
      "  B02001_008E B02001_009E B02001_010E state county  \n",
      "0        5278         511        4767    48    209  \n",
      "1       24322        3787       20535    48    491  \n",
      "2       51326        7713       43613    48    453  \n",
      "3        3454         303        3151    48    021  \n"
     ]
    }
   ],
   "source": [
    "import pandas as pd\n",
    "import requests\n",
    "from pathlib import Path\n",
    "from api import api_key\n",
    "from census import Census\n",
    "\n",
    "# api query url\n",
    "url_2017 = \"https://api.census.gov/data/2017/acs/acs1?get=NAME,B16010_041E,B01003_001E,B06011_001E,B23025_005E,B02001_002E,B02001_003E,B02001_004E,B02001_005E,B02001_006E,B02001_007E,B02001_008E,B02001_009E,B02001_010E&for=county:453,491,021,209&in=state:48\"\n",
    "url_2019 = \"https://api.census.gov/data/2019/acs/acs1?get=NAME,B16010_041E,B01003_001E,B06011_001E,B23025_005E,B02001_002E,B02001_003E,B02001_004E,B02001_005E,B02001_006E,B02001_007E,B02001_008E,B02001_009E,B02001_010E&for=county:453,491,021,209&in=state:48\"\n",
    "url_2021 = \"https://api.census.gov/data/2021/acs/acs1?get=NAME,B16010_041E,B01003_001E,B06011_001E,B23025_005E,B02001_002E,B02001_003E,B02001_004E,B02001_005E,B02001_006E,B02001_007E,B02001_008E,B02001_009E,B02001_010E&for=county:453,491,021,209&in=state:48\"\n",
    "query_url_2017 = f\"{url_2017}&key={api_key}\"\n",
    "query_url_2019 = f\"{url_2019}&key={api_key}\"\n",
    "query_url_2021 = f\"{url_2021}&key={api_key}\"\n",
    "\n",
    "# format query url into json\n",
    "census_2017 = requests.get(query_url_2017).json()\n",
    "census_2019 = requests.get(query_url_2019).json()\n",
    "census_2021 = requests.get(query_url_2021).json()\n",
    "\n",
    "# sett the 1st list from the result as the key for the dictionary\n",
    "keys_2017 = census_2017[0]\n",
    "values_2017 = census_2017[1:]\n",
    "keys_2019 = census_2019[0]\n",
    "values_2019 = census_2019[1:]\n",
    "keys_2021 = census_2021[0]\n",
    "values_2021 = census_2021[1:]\n",
    "\n",
    "# make the dictionary\n",
    "census_dict_2017 = {}\n",
    "keys_len = range(len(keys_2017))\n",
    "for i in keys_len:\n",
    "    key = keys_2017[i]\n",
    "    value = []\n",
    "    for row in values_2017:\n",
    "        value.append(row[i])\n",
    "    census_dict_2017[key] = value\n",
    "    \n",
    "census_dict_2019 = {}\n",
    "keys_len = range(len(keys_2019))\n",
    "for i in keys_len:\n",
    "    key = keys_2019[i]\n",
    "    value = []\n",
    "    for row in values_2019:\n",
    "        value.append(row[i])\n",
    "    census_dict_2019[key] = value\n",
    "    \n",
    "census_dict_2021 = {}\n",
    "keys_len = range(len(keys_2021))\n",
    "for i in keys_len:\n",
    "    key = keys_2021[i]\n",
    "    value = []\n",
    "    for row in values_2021:\n",
    "        value.append(row[i])\n",
    "    census_dict_2021[key] = value\n",
    "\n",
    "# format the dictionary into a dataframe\n",
    "census_2017_df = pd.DataFrame(census_dict_2017)\n",
    "# census_2017_df\n",
    "census_2019_df = pd.DataFrame(census_dict_2019)\n",
    "# print(census_2019_df)\n",
    "census_2023_df = pd.DataFrame(census_dict_2021)\n",
    "# census_2023_df\n",
    "\n"
   ]
  },
  {
   "cell_type": "code",
   "execution_count": 73,
   "id": "7c8b8216-ab81-404d-a02f-e8c237b1fe6d",
   "metadata": {},
   "outputs": [
    {
     "name": "stdout",
     "output_type": "stream",
     "text": [
      "key1\n",
      "key2\n",
      "key3\n"
     ]
    },
    {
     "data": {
      "text/plain": [
       "{'key1': ['value1', 'value2', 'value3'],\n",
       " 'key2': ['value4', 'value5', 'value6'],\n",
       " 'key3': ['value7', 'value8', 'value9']}"
      ]
     },
     "execution_count": 73,
     "metadata": {},
     "output_type": "execute_result"
    }
   ],
   "source": [
    "list_of_lists = [\n",
    "    [\"key1\", \"value1\", \"value2\", \"value3\"],\n",
    "    [\"key2\", \"value4\", \"value5\", \"value6\"],\n",
    "    [\"key3\", \"value7\", \"value8\", \"value9\"]\n",
    "]\n",
    "for row in list_of_lists:\n",
    "    print(row[0])\n",
    "# Using dictionary comprehension\n",
    "result_dict = {row[0]: row[1:] for row in list_of_lists}\n",
    "\n",
    "result_dict"
   ]
  },
  {
   "cell_type": "code",
   "execution_count": 64,
   "id": "fa135e15-d1c5-4427-aaea-9be00c9d5ed9",
   "metadata": {
    "tags": []
   },
   "outputs": [
    {
     "name": "stdout",
     "output_type": "stream",
     "text": [
      "     key1    key2    key3\n",
      "0  value1  value4  value7\n",
      "1  value2  value5  value8\n",
      "2  value3  value6  value9\n"
     ]
    }
   ],
   "source": [
    "# print(result_dict)\n",
    "df = pd.DataFrame(result_dict)\n",
    "\n",
    "print(df)"
   ]
  },
  {
   "cell_type": "code",
   "execution_count": 103,
   "id": "f503f72c-eb5c-41df-83d6-cb7ab2f3b567",
   "metadata": {
    "tags": []
   },
   "outputs": [
    {
     "data": {
      "text/plain": [
       "[[1, 2, 3, 4], [5, 6, 7, 8], [9, 10, 11, 12]]"
      ]
     },
     "execution_count": 103,
     "metadata": {},
     "output_type": "execute_result"
    }
   ],
   "source": [
    "import pandas as pd\n",
    "\n",
    "# Example list of lists\n",
    "list_of_lists = [\n",
    "    ['A', 'B', 'C', 'D'],\n",
    "    [1, 2, 3, 4],\n",
    "    [5, 6, 7, 8],\n",
    "    [9, 10, 11, 12]\n",
    "]\n",
    "\n",
    "# Extract the first row as keys and the rest as values\n",
    "keys = list_of_lists[0]\n",
    "values = list_of_lists[1:]\n",
    "\n",
    "\n",
    "# data_dict = {key: value for key, value in zip(keys, values)}\n",
    "# data_dict = {}\n",
    "# for key, value in zip(keys, values):\n",
    "#     data_dict[key] = value\n",
    "\n",
    "# data_dict = {keys[i]: [row[i] for row in values] for i in range(len(keys))}\n",
    "\n",
    "key_num = range(len(keys))\n",
    "\n",
    "for i in key_num\n",
    "    key = keys[i]\n",
    "    value_list = []\n",
    "    for row is values\n",
    "        value_list.append(row[i])\n",
    "    \n",
    "\n",
    "# # Use zip to pair keys with values and convert to a dictionary\n",
    "# data_dict = dict(zip(keys, values))\n",
    "\n",
    "# # Create the DataFrame\n",
    "# df = pd.DataFrame(data_dict)\n",
    "\n",
    "# print(df)"
   ]
  },
  {
   "cell_type": "code",
   "execution_count": null,
   "id": "4c2787cf-e9f5-408f-9a84-30b40cb0d904",
   "metadata": {},
   "outputs": [],
   "source": []
  }
 ],
 "metadata": {
  "kernelspec": {
   "display_name": "Python 3 (ipykernel)",
   "language": "python",
   "name": "python3"
  },
  "language_info": {
   "codemirror_mode": {
    "name": "ipython",
    "version": 3
   },
   "file_extension": ".py",
   "mimetype": "text/x-python",
   "name": "python",
   "nbconvert_exporter": "python",
   "pygments_lexer": "ipython3",
   "version": "3.11.3"
  }
 },
 "nbformat": 4,
 "nbformat_minor": 5
}
